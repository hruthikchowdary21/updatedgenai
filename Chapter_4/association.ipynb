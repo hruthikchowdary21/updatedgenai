{
  "nbformat": 4,
  "nbformat_minor": 0,
  "metadata": {
    "colab": {
      "provenance": []
    },
    "kernelspec": {
      "name": "python3",
      "display_name": "Python 3"
    },
    "language_info": {
      "name": "python"
    }
  },
  "cells": [
    {
      "cell_type": "code",
      "execution_count": null,
      "metadata": {
        "id": "etVUz9MK-lTo",
        "colab": {
          "base_uri": "https://localhost:8080/",
          "height": 473
        },
        "outputId": "ed5dccf1-9811-4015-b968-f7fe6648424c"
      },
      "outputs": [
        {
          "output_type": "stream",
          "name": "stderr",
          "text": [
            "/usr/local/lib/python3.10/dist-packages/ipykernel/ipkernel.py:283: DeprecationWarning: `should_run_async` will not call `transform_cell` automatically in the future. Please pass the result to `transformed_cell` argument and any exception that happen during thetransform in `preprocessing_exc_tuple` in IPython 7.17 and above.\n",
            "  and should_run_async(code)\n"
          ]
        },
        {
          "output_type": "display_data",
          "data": {
            "text/plain": [
              "<IPython.core.display.HTML object>"
            ],
            "text/html": [
              "\n",
              "     <input type=\"file\" id=\"files-5c77e47f-e891-48d4-ae3f-44f65f59c294\" name=\"files[]\" multiple disabled\n",
              "        style=\"border:none\" />\n",
              "     <output id=\"result-5c77e47f-e891-48d4-ae3f-44f65f59c294\">\n",
              "      Upload widget is only available when the cell has been executed in the\n",
              "      current browser session. Please rerun this cell to enable.\n",
              "      </output>\n",
              "      <script>// Copyright 2017 Google LLC\n",
              "//\n",
              "// Licensed under the Apache License, Version 2.0 (the \"License\");\n",
              "// you may not use this file except in compliance with the License.\n",
              "// You may obtain a copy of the License at\n",
              "//\n",
              "//      http://www.apache.org/licenses/LICENSE-2.0\n",
              "//\n",
              "// Unless required by applicable law or agreed to in writing, software\n",
              "// distributed under the License is distributed on an \"AS IS\" BASIS,\n",
              "// WITHOUT WARRANTIES OR CONDITIONS OF ANY KIND, either express or implied.\n",
              "// See the License for the specific language governing permissions and\n",
              "// limitations under the License.\n",
              "\n",
              "/**\n",
              " * @fileoverview Helpers for google.colab Python module.\n",
              " */\n",
              "(function(scope) {\n",
              "function span(text, styleAttributes = {}) {\n",
              "  const element = document.createElement('span');\n",
              "  element.textContent = text;\n",
              "  for (const key of Object.keys(styleAttributes)) {\n",
              "    element.style[key] = styleAttributes[key];\n",
              "  }\n",
              "  return element;\n",
              "}\n",
              "\n",
              "// Max number of bytes which will be uploaded at a time.\n",
              "const MAX_PAYLOAD_SIZE = 100 * 1024;\n",
              "\n",
              "function _uploadFiles(inputId, outputId) {\n",
              "  const steps = uploadFilesStep(inputId, outputId);\n",
              "  const outputElement = document.getElementById(outputId);\n",
              "  // Cache steps on the outputElement to make it available for the next call\n",
              "  // to uploadFilesContinue from Python.\n",
              "  outputElement.steps = steps;\n",
              "\n",
              "  return _uploadFilesContinue(outputId);\n",
              "}\n",
              "\n",
              "// This is roughly an async generator (not supported in the browser yet),\n",
              "// where there are multiple asynchronous steps and the Python side is going\n",
              "// to poll for completion of each step.\n",
              "// This uses a Promise to block the python side on completion of each step,\n",
              "// then passes the result of the previous step as the input to the next step.\n",
              "function _uploadFilesContinue(outputId) {\n",
              "  const outputElement = document.getElementById(outputId);\n",
              "  const steps = outputElement.steps;\n",
              "\n",
              "  const next = steps.next(outputElement.lastPromiseValue);\n",
              "  return Promise.resolve(next.value.promise).then((value) => {\n",
              "    // Cache the last promise value to make it available to the next\n",
              "    // step of the generator.\n",
              "    outputElement.lastPromiseValue = value;\n",
              "    return next.value.response;\n",
              "  });\n",
              "}\n",
              "\n",
              "/**\n",
              " * Generator function which is called between each async step of the upload\n",
              " * process.\n",
              " * @param {string} inputId Element ID of the input file picker element.\n",
              " * @param {string} outputId Element ID of the output display.\n",
              " * @return {!Iterable<!Object>} Iterable of next steps.\n",
              " */\n",
              "function* uploadFilesStep(inputId, outputId) {\n",
              "  const inputElement = document.getElementById(inputId);\n",
              "  inputElement.disabled = false;\n",
              "\n",
              "  const outputElement = document.getElementById(outputId);\n",
              "  outputElement.innerHTML = '';\n",
              "\n",
              "  const pickedPromise = new Promise((resolve) => {\n",
              "    inputElement.addEventListener('change', (e) => {\n",
              "      resolve(e.target.files);\n",
              "    });\n",
              "  });\n",
              "\n",
              "  const cancel = document.createElement('button');\n",
              "  inputElement.parentElement.appendChild(cancel);\n",
              "  cancel.textContent = 'Cancel upload';\n",
              "  const cancelPromise = new Promise((resolve) => {\n",
              "    cancel.onclick = () => {\n",
              "      resolve(null);\n",
              "    };\n",
              "  });\n",
              "\n",
              "  // Wait for the user to pick the files.\n",
              "  const files = yield {\n",
              "    promise: Promise.race([pickedPromise, cancelPromise]),\n",
              "    response: {\n",
              "      action: 'starting',\n",
              "    }\n",
              "  };\n",
              "\n",
              "  cancel.remove();\n",
              "\n",
              "  // Disable the input element since further picks are not allowed.\n",
              "  inputElement.disabled = true;\n",
              "\n",
              "  if (!files) {\n",
              "    return {\n",
              "      response: {\n",
              "        action: 'complete',\n",
              "      }\n",
              "    };\n",
              "  }\n",
              "\n",
              "  for (const file of files) {\n",
              "    const li = document.createElement('li');\n",
              "    li.append(span(file.name, {fontWeight: 'bold'}));\n",
              "    li.append(span(\n",
              "        `(${file.type || 'n/a'}) - ${file.size} bytes, ` +\n",
              "        `last modified: ${\n",
              "            file.lastModifiedDate ? file.lastModifiedDate.toLocaleDateString() :\n",
              "                                    'n/a'} - `));\n",
              "    const percent = span('0% done');\n",
              "    li.appendChild(percent);\n",
              "\n",
              "    outputElement.appendChild(li);\n",
              "\n",
              "    const fileDataPromise = new Promise((resolve) => {\n",
              "      const reader = new FileReader();\n",
              "      reader.onload = (e) => {\n",
              "        resolve(e.target.result);\n",
              "      };\n",
              "      reader.readAsArrayBuffer(file);\n",
              "    });\n",
              "    // Wait for the data to be ready.\n",
              "    let fileData = yield {\n",
              "      promise: fileDataPromise,\n",
              "      response: {\n",
              "        action: 'continue',\n",
              "      }\n",
              "    };\n",
              "\n",
              "    // Use a chunked sending to avoid message size limits. See b/62115660.\n",
              "    let position = 0;\n",
              "    do {\n",
              "      const length = Math.min(fileData.byteLength - position, MAX_PAYLOAD_SIZE);\n",
              "      const chunk = new Uint8Array(fileData, position, length);\n",
              "      position += length;\n",
              "\n",
              "      const base64 = btoa(String.fromCharCode.apply(null, chunk));\n",
              "      yield {\n",
              "        response: {\n",
              "          action: 'append',\n",
              "          file: file.name,\n",
              "          data: base64,\n",
              "        },\n",
              "      };\n",
              "\n",
              "      let percentDone = fileData.byteLength === 0 ?\n",
              "          100 :\n",
              "          Math.round((position / fileData.byteLength) * 100);\n",
              "      percent.textContent = `${percentDone}% done`;\n",
              "\n",
              "    } while (position < fileData.byteLength);\n",
              "  }\n",
              "\n",
              "  // All done.\n",
              "  yield {\n",
              "    response: {\n",
              "      action: 'complete',\n",
              "    }\n",
              "  };\n",
              "}\n",
              "\n",
              "scope.google = scope.google || {};\n",
              "scope.google.colab = scope.google.colab || {};\n",
              "scope.google.colab._files = {\n",
              "  _uploadFiles,\n",
              "  _uploadFilesContinue,\n",
              "};\n",
              "})(self);\n",
              "</script> "
            ]
          },
          "metadata": {}
        },
        {
          "output_type": "stream",
          "name": "stdout",
          "text": [
            "Saving english_movies.csv to english_movies (2).csv\n",
            "                              title  \\\n",
            "0                         The Flash   \n",
            "1                            Barbie   \n",
            "2  Transformers: Rise of the Beasts   \n",
            "3                The Little Mermaid   \n",
            "4      Ruby Gillman, Teenage Kraken   \n",
            "\n",
            "                                            overview release_date  \\\n",
            "0  When his attempt to save his family inadverten...   2023-06-13   \n",
            "1  Barbie and Ken are having the time of their li...   2023-07-19   \n",
            "2  When a new threat capable of destroying the en...   2023-06-06   \n",
            "3  The youngest of King Triton’s daughters, and t...   2023-05-18   \n",
            "4  Ruby Gillman, a sweet and awkward high school ...   2023-06-28   \n",
            "\n",
            "                                genres  popularity  vote_average  vote_count  \n",
            "0   Action, Adventure, Science Fiction    4631.142           6.9        1773  \n",
            "1           Comedy, Adventure, Fantasy    4493.487           7.6        1621  \n",
            "2   Action, Adventure, Science Fiction    4090.661           7.5        2065  \n",
            "3  Adventure, Family, Fantasy, Romance    4075.869           6.4        1182  \n",
            "4   Animation, Family, Fantasy, Comedy    2164.714           7.8         308  \n"
          ]
        }
      ],
      "source": [
        "import pandas as pd\n",
        "import io\n",
        "import numpy as np\n",
        "from google.colab import files\n",
        "from mlxtend.frequent_patterns import apriori, association_rules\n",
        "from mlxtend.preprocessing import TransactionEncoder\n",
        "\n",
        "# Assuming the file is named 'Customer_Data.csv'\n",
        "uploaded = files.upload()\n",
        "df= pd.read_csv(next(iter(uploaded.keys())))\n",
        "# Display the first few rows to ensure it's loaded correctly\n",
        "print(df.head())"
      ]
    },
    {
      "cell_type": "code",
      "source": [
        "# Descriptive statistics for numerical features\n",
        "print(df.describe())\n",
        "\n",
        "# To include all columns including categorical data, use include='all'\n",
        "print(df.describe(include='all'))\n"
      ],
      "metadata": {
        "colab": {
          "base_uri": "https://localhost:8080/"
        },
        "id": "yP8hgAGorlJK",
        "outputId": "358aaa49-b32c-402b-80f3-99e5b138c25d"
      },
      "execution_count": null,
      "outputs": [
        {
          "output_type": "stream",
          "name": "stdout",
          "text": [
            "         popularity  vote_average    vote_count\n",
            "count  10000.000000  10000.000000  10000.000000\n",
            "mean      29.335884      6.282290   1548.338600\n",
            "std      105.733120      1.228712   2884.216216\n",
            "min        6.479000      0.000000      0.000000\n",
            "25%       12.478750      5.800000    174.000000\n",
            "50%       16.578000      6.400000    509.000000\n",
            "75%       25.806500      7.000000   1521.000000\n",
            "max     4631.142000     10.000000  34102.000000\n",
            "                    title                                           overview  \\\n",
            "count               10000                                               9995   \n",
            "unique               9627                                               9993   \n",
            "top     A Christmas Carol  This documentary focuses on the actors and the...   \n",
            "freq                    4                                                  2   \n",
            "mean                  NaN                                                NaN   \n",
            "std                   NaN                                                NaN   \n",
            "min                   NaN                                                NaN   \n",
            "25%                   NaN                                                NaN   \n",
            "50%                   NaN                                                NaN   \n",
            "75%                   NaN                                                NaN   \n",
            "max                   NaN                                                NaN   \n",
            "\n",
            "       release_date genres    popularity  vote_average    vote_count  \n",
            "count          9982   9978  10000.000000  10000.000000  10000.000000  \n",
            "unique         6122   2256           NaN           NaN           NaN  \n",
            "top      2023-07-28  Drama           NaN           NaN           NaN  \n",
            "freq             34    444           NaN           NaN           NaN  \n",
            "mean            NaN    NaN     29.335884      6.282290   1548.338600  \n",
            "std             NaN    NaN    105.733120      1.228712   2884.216216  \n",
            "min             NaN    NaN      6.479000      0.000000      0.000000  \n",
            "25%             NaN    NaN     12.478750      5.800000    174.000000  \n",
            "50%             NaN    NaN     16.578000      6.400000    509.000000  \n",
            "75%             NaN    NaN     25.806500      7.000000   1521.000000  \n",
            "max             NaN    NaN   4631.142000     10.000000  34102.000000  \n"
          ]
        },
        {
          "output_type": "stream",
          "name": "stderr",
          "text": [
            "/usr/local/lib/python3.10/dist-packages/ipykernel/ipkernel.py:283: DeprecationWarning: `should_run_async` will not call `transform_cell` automatically in the future. Please pass the result to `transformed_cell` argument and any exception that happen during thetransform in `preprocessing_exc_tuple` in IPython 7.17 and above.\n",
            "  and should_run_async(code)\n"
          ]
        }
      ]
    },
    {
      "cell_type": "code",
      "source": [
        "# Check for null values in the dataset\n",
        "print(df.isnull().sum())\n"
      ],
      "metadata": {
        "colab": {
          "base_uri": "https://localhost:8080/"
        },
        "id": "H77BXKXKuPuA",
        "outputId": "f32a2c48-54d6-4fbb-94ba-59148055930f"
      },
      "execution_count": null,
      "outputs": [
        {
          "output_type": "stream",
          "name": "stdout",
          "text": [
            "title            0\n",
            "overview         5\n",
            "release_date    18\n",
            "genres          22\n",
            "popularity       0\n",
            "vote_average     0\n",
            "vote_count       0\n",
            "dtype: int64\n"
          ]
        },
        {
          "output_type": "stream",
          "name": "stderr",
          "text": [
            "/usr/local/lib/python3.10/dist-packages/ipykernel/ipkernel.py:283: DeprecationWarning: `should_run_async` will not call `transform_cell` automatically in the future. Please pass the result to `transformed_cell` argument and any exception that happen during thetransform in `preprocessing_exc_tuple` in IPython 7.17 and above.\n",
            "  and should_run_async(code)\n"
          ]
        }
      ]
    },
    {
      "cell_type": "code",
      "source": [
        "# Remove rows where any of the specified columns have a null value\n",
        "df.dropna(subset=['overview', 'release_date', 'genres'], inplace=True)\n",
        "\n",
        "# Alternatively, to remove rows where any cell across the DataFrame has a null value\n",
        "# df.dropna(inplace=True)\n",
        "\n",
        "# Check the dimensions of the DataFrame after dropping null values\n",
        "print(df.shape)\n",
        "\n",
        "# Re-check for null values to ensure rows have been removed correctly\n",
        "print(df.isnull().sum())\n"
      ],
      "metadata": {
        "colab": {
          "base_uri": "https://localhost:8080/"
        },
        "id": "JTrCOHBDwrh1",
        "outputId": "9130931e-dffb-4a62-cd6f-e5424119fa12"
      },
      "execution_count": null,
      "outputs": [
        {
          "output_type": "stream",
          "name": "stdout",
          "text": [
            "(9959, 7)\n",
            "title           0\n",
            "overview        0\n",
            "release_date    0\n",
            "genres          0\n",
            "popularity      0\n",
            "vote_average    0\n",
            "vote_count      0\n",
            "dtype: int64\n"
          ]
        },
        {
          "output_type": "stream",
          "name": "stderr",
          "text": [
            "/usr/local/lib/python3.10/dist-packages/ipykernel/ipkernel.py:283: DeprecationWarning: `should_run_async` will not call `transform_cell` automatically in the future. Please pass the result to `transformed_cell` argument and any exception that happen during thetransform in `preprocessing_exc_tuple` in IPython 7.17 and above.\n",
            "  and should_run_async(code)\n"
          ]
        }
      ]
    },
    {
      "cell_type": "code",
      "source": [
        "# Reset the index of the DataFrame\n",
        "df.reset_index(drop=True, inplace=True)\n"
      ],
      "metadata": {
        "colab": {
          "base_uri": "https://localhost:8080/"
        },
        "id": "vkHSmG6IxaxZ",
        "outputId": "21649e89-51d2-4383-9be9-9b1a3eddd5b8"
      },
      "execution_count": null,
      "outputs": [
        {
          "output_type": "stream",
          "name": "stderr",
          "text": [
            "/usr/local/lib/python3.10/dist-packages/ipykernel/ipkernel.py:283: DeprecationWarning: `should_run_async` will not call `transform_cell` automatically in the future. Please pass the result to `transformed_cell` argument and any exception that happen during thetransform in `preprocessing_exc_tuple` in IPython 7.17 and above.\n",
            "  and should_run_async(code)\n"
          ]
        }
      ]
    },
    {
      "cell_type": "code",
      "source": [
        "# Assuming 'genres' is the column containing items for association analysis\n",
        "# and it contains data like \"['Action', 'Adventure', 'Sci-Fi']\"\n",
        "\n",
        "# 1. Extract the 'genres' column and convert it to a list of lists\n",
        "transactions = df['genres'].str.strip('[]').str.replace(\"'\", \"\").str.split(', ').tolist()\n",
        "\n",
        "# 2. One-hot encode the transactions using TransactionEncoder\n",
        "te = TransactionEncoder()\n",
        "te_ary = te.fit(transactions).transform(transactions)\n",
        "\n",
        "# 3. Create a DataFrame from the encoded data\n",
        "df_encoded = pd.DataFrame(te_ary, columns=te.columns_)\n",
        "\n",
        "# 4. Apply apriori and association_rules to the encoded DataFrame\n",
        "frequent_itemsets = apriori(df_encoded, min_support=0.01, use_colnames=True)\n",
        "rules = association_rules(frequent_itemsets, metric=\"confidence\", min_threshold=0.5)\n",
        "\n",
        "# 5. Display rules sorted by lift\n",
        "rules.sort_values('lift', ascending=False, inplace=True)\n",
        "print(rules[['antecedents', 'consequents', 'support', 'confidence', 'lift']])"
      ],
      "metadata": {
        "colab": {
          "base_uri": "https://localhost:8080/"
        },
        "id": "RuMrq-6uxdth",
        "outputId": "7d86b134-8533-4d5a-b962-eef74ec914cc"
      },
      "execution_count": null,
      "outputs": [
        {
          "output_type": "stream",
          "name": "stdout",
          "text": [
            "                        antecedents       consequents   support  confidence  \\\n",
            "39      (Adventure, Comedy, Family)       (Animation)  0.022894    0.649573   \n",
            "47     (Fantasy, Animation, Comedy)          (Family)  0.012551    0.912409   \n",
            "38   (Adventure, Animation, Comedy)          (Family)  0.022894    0.912000   \n",
            "25              (Comedy, Animation)          (Family)  0.045386    0.886275   \n",
            "41           (Adventure, Animation)  (Comedy, Family)  0.022894    0.517007   \n",
            "42  (Adventure, Fantasy, Animation)          (Family)  0.012652    0.845638   \n",
            "19              (Adventure, Family)       (Animation)  0.037253    0.578783   \n",
            "18           (Adventure, Animation)          (Family)  0.037253    0.841270   \n",
            "28             (Fantasy, Animation)          (Family)  0.022894    0.805654   \n",
            "2                          (Family)       (Animation)  0.080129    0.540284   \n",
            "1                       (Animation)          (Family)  0.080129    0.787759   \n",
            "26                 (Comedy, Family)       (Animation)  0.045386    0.518349   \n",
            "44     (Adventure, Fantasy, Comedy)          (Family)  0.012953    0.750000   \n",
            "21              (Adventure, Comedy)          (Family)  0.035245    0.592905   \n",
            "29                (Fantasy, Comedy)          (Family)  0.026107    0.589569   \n",
            "10                 (Action, Family)       (Adventure)  0.012752    0.686486   \n",
            "23             (Adventure, Fantasy)          (Family)  0.025605    0.529046   \n",
            "11                (Fantasy, Action)       (Adventure)  0.018074    0.592105   \n",
            "13            (Adventure, Thriller)          (Action)  0.022693    0.821818   \n",
            "43     (Fantasy, Animation, Family)       (Adventure)  0.012652    0.552632   \n",
            "24                (Fantasy, Family)       (Adventure)  0.025605    0.543710   \n",
            "20             (Fantasy, Animation)       (Adventure)  0.014961    0.526502   \n",
            "12     (Science Fiction, Adventure)          (Action)  0.031027    0.727059   \n",
            "40      (Comedy, Animation, Family)       (Adventure)  0.022894    0.504425   \n",
            "36           (Action, Crime, Drama)        (Thriller)  0.010443    0.688742   \n",
            "32                 (Crime, Mystery)        (Thriller)  0.016166    0.688034   \n",
            "34                 (Mystery, Drama)        (Thriller)  0.023095    0.678466   \n",
            "6                         (History)           (Drama)  0.039562    0.901602   \n",
            "9                         (Mystery)        (Thriller)  0.059444    0.651982   \n",
            "35                (Horror, Mystery)        (Thriller)  0.020082    0.647249   \n",
            "15                  (Action, Crime)        (Thriller)  0.035847    0.643243   \n",
            "5                           (Crime)        (Thriller)  0.078221    0.564493   \n",
            "31                   (Crime, Drama)        (Thriller)  0.036650    0.559816   \n",
            "8                             (War)           (Drama)  0.023898    0.767742   \n",
            "16      (Science Fiction, Thriller)          (Action)  0.020183    0.502500   \n",
            "33                  (Horror, Drama)        (Thriller)  0.011949    0.538462   \n",
            "37   (Adventure, Animation, Family)          (Comedy)  0.022894    0.614555   \n",
            "3                          (Family)          (Comedy)  0.087559    0.590386   \n",
            "14                 (Action, Family)          (Comedy)  0.010543    0.567568   \n",
            "17           (Adventure, Animation)          (Comedy)  0.025103    0.566893   \n",
            "27              (Animation, Family)          (Comedy)  0.045386    0.566416   \n",
            "30                (Fantasy, Family)          (Comedy)  0.026107    0.554371   \n",
            "46     (Fantasy, Animation, Family)          (Comedy)  0.012551    0.548246   \n",
            "22              (Adventure, Family)          (Comedy)  0.035245    0.547582   \n",
            "4                         (Romance)          (Comedy)  0.078422    0.519282   \n",
            "45     (Adventure, Fantasy, Family)          (Comedy)  0.012953    0.505882   \n",
            "0                       (Animation)          (Comedy)  0.051210    0.503455   \n",
            "7                         (Romance)           (Drama)  0.089266    0.591090   \n",
            "\n",
            "        lift  \n",
            "39  6.386075  \n",
            "47  6.152118  \n",
            "38  6.149362  \n",
            "25  5.975902  \n",
            "41  5.904668  \n",
            "42  5.701899  \n",
            "19  5.690130  \n",
            "18  5.672448  \n",
            "28  5.432299  \n",
            "2   5.311641  \n",
            "1   5.311641  \n",
            "26  5.095986  \n",
            "44  5.057041  \n",
            "21  3.997796  \n",
            "29  3.975301  \n",
            "10  3.915647  \n",
            "23  3.567208  \n",
            "11  3.377306  \n",
            "13  3.286943  \n",
            "43  3.152152  \n",
            "24  3.101265  \n",
            "20  3.003111  \n",
            "12  2.907943  \n",
            "40  2.877186  \n",
            "36  2.495154  \n",
            "32  2.492591  \n",
            "34  2.457928  \n",
            "6   2.375411  \n",
            "9   2.361983  \n",
            "35  2.344836  \n",
            "15  2.330324  \n",
            "5   2.045028  \n",
            "31  2.028086  \n",
            "8   2.022736  \n",
            "16  2.009798  \n",
            "33  1.950723  \n",
            "37  1.904280  \n",
            "3   1.829388  \n",
            "14  1.758682  \n",
            "17  1.756594  \n",
            "27  1.755114  \n",
            "30  1.717791  \n",
            "46  1.698811  \n",
            "22  1.696754  \n",
            "4   1.609063  \n",
            "45  1.567543  \n",
            "0   1.560022  \n",
            "7   1.557320  \n"
          ]
        },
        {
          "output_type": "stream",
          "name": "stderr",
          "text": [
            "/usr/local/lib/python3.10/dist-packages/ipykernel/ipkernel.py:283: DeprecationWarning: `should_run_async` will not call `transform_cell` automatically in the future. Please pass the result to `transformed_cell` argument and any exception that happen during thetransform in `preprocessing_exc_tuple` in IPython 7.17 and above.\n",
            "  and should_run_async(code)\n"
          ]
        }
      ]
    },
    {
      "cell_type": "code",
      "source": [
        "from sklearn.feature_extraction.text import TfidfVectorizer\n",
        "from sklearn.metrics.pairwise import linear_kernel\n",
        "\n",
        "# Filling NaN values with an empty string if any\n",
        "df['overview'] = df['overview'].fillna('')\n",
        "\n",
        "# Creating the TF-IDF matrix\n",
        "tfidf = TfidfVectorizer(stop_words='english')\n",
        "tfidf_matrix = tfidf.fit_transform(df['overview'])\n",
        "\n",
        "# Compute cosine similarity matrix\n",
        "cosine_sim = linear_kernel(tfidf_matrix, tfidf_matrix)"
      ],
      "metadata": {
        "colab": {
          "base_uri": "https://localhost:8080/"
        },
        "id": "qlX7PYW_ewxf",
        "outputId": "191ac707-6409-4ee5-ecdc-7343937907f1"
      },
      "execution_count": null,
      "outputs": [
        {
          "output_type": "stream",
          "name": "stderr",
          "text": [
            "/usr/local/lib/python3.10/dist-packages/ipykernel/ipkernel.py:283: DeprecationWarning: `should_run_async` will not call `transform_cell` automatically in the future. Please pass the result to `transformed_cell` argument and any exception that happen during thetransform in `preprocessing_exc_tuple` in IPython 7.17 and above.\n",
            "  and should_run_async(code)\n"
          ]
        }
      ]
    },
    {
      "cell_type": "code",
      "source": [
        "# Function to get movie recommendations based on cosine similarity scores\n",
        "def get_recommendations(title):\n",
        "    # Get the index of the movie that matches the title\n",
        "    idx = df.index[df['title'] == title].tolist()[0]\n",
        "\n",
        "    # Get the pairwise similarity scores of all movies with that movie\n",
        "    sim_scores = list(enumerate(cosine_sim[idx]))\n",
        "\n",
        "    # Sort the movies based on the similarity scores\n",
        "    sim_scores = sorted(sim_scores, key=lambda x: x[1], reverse=True)\n",
        "\n",
        "    # Get the scores for 10 most similar movies\n",
        "    sim_scores = sim_scores[1:11]\n",
        "\n",
        "    # Get the movie indices\n",
        "    movie_indices = [i[0] for i in sim_scores]\n",
        "\n",
        "    # Return the top 10 most similar movies\n",
        "    return df['title'].iloc[movie_indices]\n"
      ],
      "metadata": {
        "colab": {
          "base_uri": "https://localhost:8080/"
        },
        "id": "8mkNurK-tL7x",
        "outputId": "c59c5cfd-5ec2-48a1-be71-7196d8a30a6b"
      },
      "execution_count": null,
      "outputs": [
        {
          "output_type": "stream",
          "name": "stderr",
          "text": [
            "/usr/local/lib/python3.10/dist-packages/ipykernel/ipkernel.py:283: DeprecationWarning: `should_run_async` will not call `transform_cell` automatically in the future. Please pass the result to `transformed_cell` argument and any exception that happen during thetransform in `preprocessing_exc_tuple` in IPython 7.17 and above.\n",
            "  and should_run_async(code)\n"
          ]
        }
      ]
    },
    {
      "cell_type": "code",
      "source": [
        "import pandas as pd\n",
        "from sklearn.feature_extraction.text import TfidfVectorizer\n",
        "from sklearn.metrics.pairwise import linear_kernel\n",
        "\n",
        "# Creating the TF-IDF matrix\n",
        "tfidf = TfidfVectorizer(stop_words='english')\n",
        "tfidf_matrix = tfidf.fit_transform(df['overview'])\n",
        "\n",
        "# Compute cosine similarity matrix\n",
        "cosine_sim = linear_kernel(tfidf_matrix, tfidf_matrix)\n"
      ],
      "metadata": {
        "colab": {
          "base_uri": "https://localhost:8080/"
        },
        "id": "OMTn2STf3ArZ",
        "outputId": "a89032fc-0470-4627-c57f-e658bf662f32"
      },
      "execution_count": null,
      "outputs": [
        {
          "output_type": "stream",
          "name": "stderr",
          "text": [
            "/usr/local/lib/python3.10/dist-packages/ipykernel/ipkernel.py:283: DeprecationWarning: `should_run_async` will not call `transform_cell` automatically in the future. Please pass the result to `transformed_cell` argument and any exception that happen during thetransform in `preprocessing_exc_tuple` in IPython 7.17 and above.\n",
            "  and should_run_async(code)\n"
          ]
        }
      ]
    },
    {
      "cell_type": "code",
      "source": [
        "def get_recommendations(title):\n",
        "    # Get the index of the movie that matches the title\n",
        "    idx = df.index[df['title'] == title].tolist()[0]\n",
        "\n",
        "    # Get the pairwise similarity scores of all movies with that movie\n",
        "    sim_scores = list(enumerate(cosine_sim[idx]))\n",
        "\n",
        "    # Sort the movies based on the similarity scores\n",
        "    sim_scores = sorted(sim_scores, key=lambda x: x[1], reverse=True)\n",
        "\n",
        "    # Get the scores for 10 most similar movies\n",
        "    sim_scores = sim_scores[1:11]\n",
        "\n",
        "    # Get the movie indices\n",
        "    movie_indices = [i[0] for i in sim_scores]\n",
        "\n",
        "    # Return the top 10 most similar movies\n",
        "    return df['title'].iloc[movie_indices]\n"
      ],
      "metadata": {
        "colab": {
          "base_uri": "https://localhost:8080/"
        },
        "id": "flq3uOHg2_iu",
        "outputId": "6f4f9868-a807-46d0-ea46-d7dc044d018e"
      },
      "execution_count": null,
      "outputs": [
        {
          "output_type": "stream",
          "name": "stderr",
          "text": [
            "/usr/local/lib/python3.10/dist-packages/ipykernel/ipkernel.py:283: DeprecationWarning: `should_run_async` will not call `transform_cell` automatically in the future. Please pass the result to `transformed_cell` argument and any exception that happen during thetransform in `preprocessing_exc_tuple` in IPython 7.17 and above.\n",
            "  and should_run_async(code)\n"
          ]
        }
      ]
    },
    {
      "cell_type": "code",
      "source": [
        "# Replace 'Movie Title Here' with a real title from your dataset\n",
        "recommended_movies = get_recommendations('After')\n",
        "print(recommended_movies)"
      ],
      "metadata": {
        "colab": {
          "base_uri": "https://localhost:8080/"
        },
        "id": "l4ryCS593tuI",
        "outputId": "3d005149-e0e2-451e-b6df-664013509b04"
      },
      "execution_count": null,
      "outputs": [
        {
          "output_type": "stream",
          "name": "stdout",
          "text": [
            "58                       After We Fell\n",
            "56                   After We Collided\n",
            "64                    After Everything\n",
            "44                    After Ever Happy\n",
            "6167                       Re-Animator\n",
            "3637    Cranston Academy: Monster Zone\n",
            "6368             The Constant Gardener\n",
            "8530            A Little Bit of Heaven\n",
            "9467                           Spartan\n",
            "1783                   I'm Not Ashamed\n",
            "Name: title, dtype: object\n"
          ]
        },
        {
          "output_type": "stream",
          "name": "stderr",
          "text": [
            "/usr/local/lib/python3.10/dist-packages/ipykernel/ipkernel.py:283: DeprecationWarning: `should_run_async` will not call `transform_cell` automatically in the future. Please pass the result to `transformed_cell` argument and any exception that happen during thetransform in `preprocessing_exc_tuple` in IPython 7.17 and above.\n",
            "  and should_run_async(code)\n"
          ]
        }
      ]
    }
  ]
}