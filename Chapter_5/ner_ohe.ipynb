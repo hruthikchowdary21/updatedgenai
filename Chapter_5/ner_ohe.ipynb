{
 "cells": [
  {
   "cell_type": "code",
   "execution_count": 3,
   "metadata": {},
   "outputs": [
    {
     "name": "stdout",
     "output_type": "stream",
     "text": [
      "Named Entities in the text:\n",
      "(S\n",
      "  (PERSON Apple/NNP)\n",
      "  (ORGANIZATION Inc./NNP)\n",
      "  announced/VBD\n",
      "  that/IN\n",
      "  (PERSON Tim/NNP Cook/NNP)\n",
      "  ,/,\n",
      "  the/DT\n",
      "  (ORGANIZATION CEO/NNP)\n",
      "  ,/,\n",
      "  will/MD\n",
      "  visit/VB\n",
      "  (GPE New/NNP York/NNP)\n",
      "  on/IN\n",
      "  Thursday/NNP\n",
      "  to/TO\n",
      "  discuss/VB\n",
      "  the/DT\n",
      "  new/JJ\n",
      "  iPhone/NN\n",
      "  release/NN\n",
      "  ./.)\n",
      "\n",
      "Text without Verbs:\n",
      "[('Apple', 'NNP'), ('Inc.', 'NNP'), ('that', 'IN'), ('Tim', 'NNP'), ('Cook', 'NNP'), (',', ','), ('the', 'DT'), ('CEO', 'NNP'), (',', ','), ('will', 'MD'), ('New', 'NNP'), ('York', 'NNP'), ('on', 'IN'), ('Thursday', 'NNP'), ('to', 'TO'), ('the', 'DT'), ('new', 'JJ'), ('iPhone', 'NN'), ('release', 'NN'), ('.', '.')]\n"
     ]
    }
   ],
   "source": [
    "import nltk\n",
    "from nltk import pos_tag\n",
    "from nltk.tokenize import word_tokenize\n",
    "from nltk.chunk import ne_chunk\n",
    "\n",
    "\n",
    "# Sample text\n",
    "text = \"Apple Inc. announced that Tim Cook, the CEO, will visit New York on Thursday to discuss the new iPhone release.\"\n",
    "\n",
    "# Tokenize the text\n",
    "tokens = word_tokenize(text)\n",
    "\n",
    "# POS Tagging\n",
    "tags = pos_tag(tokens)\n",
    "\n",
    "# Named Entity Recognition\n",
    "entities = ne_chunk(tags)\n",
    "\n",
    "# Print Named Entities\n",
    "print(\"Named Entities in the text:\")\n",
    "print(entities)\n",
    "\n",
    "# Eliminating a Part of Speech (e.g., Verbs)\n",
    "non_verbs = [(word, tag) for word, tag in tags if 'VB' not in tag]\n",
    "print(\"\\nText without Verbs:\")\n",
    "print(non_verbs)"
   ]
  },
  {
   "cell_type": "code",
   "execution_count": 2,
   "metadata": {},
   "outputs": [
    {
     "name": "stdout",
     "output_type": "stream",
     "text": [
      "Original Data:\n",
      "    Fruit\n",
      "0   Apple\n",
      "1  Banana\n",
      "2  Cherry\n",
      "3  Banana\n",
      "4  Banana\n",
      "\n",
      "One-Hot Encoded Data:\n",
      "   Fruit_Apple  Fruit_Banana  Fruit_Cherry\n",
      "0         True         False         False\n",
      "1        False          True         False\n",
      "2        False         False          True\n",
      "3        False          True         False\n",
      "4        False          True         False\n"
     ]
    }
   ],
   "source": [
    "import pandas as pd\n",
    "\n",
    "# Create a sample dataframe\n",
    "data = {'Fruit': ['Apple', 'Banana', 'Cherry', 'Banana', 'Banana']}\n",
    "df = pd.DataFrame(data)\n",
    "print(\"Original Data:\")\n",
    "print(df)\n",
    "\n",
    "# Convert the categorical column into one-hot encoded data\n",
    "one_hot_encoded_data = pd.get_dummies(df, columns=['Fruit'])\n",
    "print(\"\\nOne-Hot Encoded Data:\")\n",
    "print(one_hot_encoded_data)\n"
   ]
  }
 ],
 "metadata": {
  "kernelspec": {
   "display_name": "Python 3",
   "language": "python",
   "name": "python3"
  },
  "language_info": {
   "codemirror_mode": {
    "name": "ipython",
    "version": 3
   },
   "file_extension": ".py",
   "mimetype": "text/x-python",
   "name": "python",
   "nbconvert_exporter": "python",
   "pygments_lexer": "ipython3",
   "version": "3.11.0"
  }
 },
 "nbformat": 4,
 "nbformat_minor": 2
}
