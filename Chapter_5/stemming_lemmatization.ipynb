{
 "cells": [
  {
   "cell_type": "markdown",
   "metadata": {},
   "source": [
    "Stemming:"
   ]
  },
  {
   "cell_type": "code",
   "execution_count": 4,
   "metadata": {},
   "outputs": [
    {
     "name": "stdout",
     "output_type": "stream",
     "text": [
      "Original Words:\n",
      "['The', 'leaves', 'on', 'the', 'tree', 'are', 'falling', 'rapidly', 'due', 'to', 'the', 'seasonal', 'change', '.']\n",
      "\n",
      "Stemmed Words:\n",
      "['the', 'leav', 'on', 'the', 'tree', 'are', 'fall', 'rapidli', 'due', 'to', 'the', 'season', 'chang', '.']\n"
     ]
    }
   ],
   "source": [
    "# Import the required library \n",
    "from nltk.stem import PorterStemmer\n",
    "from nltk.tokenize import word_tokenize\n",
    "\n",
    "# Initialize the PorterStemmer object\n",
    "ps = PorterStemmer()\n",
    "\n",
    "# Example text\n",
    "text = \"The leaves on the tree are falling rapidly due to the seasonal change.\"\n",
    "\n",
    "# Tokenize the text into words\n",
    "words = word_tokenize(text)\n",
    "\n",
    "# Apply stemming to each word in the tokenized text\n",
    "stemmed_words = [ps.stem(word) for word in words]\n",
    "\n",
    "print(\"Original Words:\")\n",
    "print(words)\n",
    "print(\"\\nStemmed Words:\")\n",
    "print(stemmed_words)\n"
   ]
  },
  {
   "cell_type": "markdown",
   "metadata": {},
   "source": [
    "Lemmatization:"
   ]
  },
  {
   "cell_type": "code",
   "execution_count": 7,
   "metadata": {},
   "outputs": [
    {
     "name": "stdout",
     "output_type": "stream",
     "text": [
      "Original Text:\n",
      "The leaves on the tree are falling rapidly due to the seasonal change.\n",
      "\n",
      "Lemmatized Words:\n",
      "['the', 'leave', 'on', 'the', 'tree', 'be', 'fall', 'rapidly', 'due', 'to', 'the', 'seasonal', 'change', '.']\n"
     ]
    }
   ],
   "source": [
    "# Import the required library\n",
    "import spacy\n",
    "\n",
    "# Load the SpaCy model\n",
    "nlp = spacy.load(\"en_core_web_sm\")\n",
    "\n",
    "# Example text\n",
    "text = \"The leaves on the tree are falling rapidly due to the seasonal change.\"\n",
    "\n",
    "# Process the text with SpaCy\n",
    "doc = nlp(text)\n",
    "\n",
    "# Extract the lemma for each word\n",
    "lemmatized_words = [token.lemma_ for token in doc]\n",
    "\n",
    "print(\"Original Text:\")\n",
    "print(text)\n",
    "print(\"\\nLemmatized Words:\")\n",
    "print(lemmatized_words)"
   ]
  }
 ],
 "metadata": {
  "kernelspec": {
   "display_name": "Python 3",
   "language": "python",
   "name": "python3"
  },
  "language_info": {
   "codemirror_mode": {
    "name": "ipython",
    "version": 3
   },
   "file_extension": ".py",
   "mimetype": "text/x-python",
   "name": "python",
   "nbconvert_exporter": "python",
   "pygments_lexer": "ipython3",
   "version": "3.11.0"
  }
 },
 "nbformat": 4,
 "nbformat_minor": 2
}
